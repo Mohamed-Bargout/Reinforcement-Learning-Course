{
 "cells": [
  {
   "cell_type": "code",
   "execution_count": 1,
   "metadata": {},
   "outputs": [],
   "source": [
    "import numpy as np"
   ]
  },
  {
   "cell_type": "markdown",
   "metadata": {},
   "source": [
    "#Task 1: implement the grid world."
   ]
  },
  {
   "cell_type": "code",
   "execution_count": 3,
   "metadata": {},
   "outputs": [],
   "source": [
    "class GridWorld:\n",
    "    def __init__(self):\n",
    "        self.grid_width = 4\n",
    "        self.grid_height = 3\n",
    "        self.start_state = (2, 0)\n",
    "        self.goal_states = [(0, 3), (1, 3)]\n",
    "        self.obstacles = [(1, 1)]\n",
    "        self.action_space = ('UP', 'DOWN', 'RIGHT', \"LEFT\")\n",
    "        self.current_state = self.start_state\n",
    "\n",
    "\n",
    "    def reset(self):\n",
    "        self.current_state = self.start_state\n",
    "        return self.current_state  # Return the state tuple\n",
    "\n",
    "    def is_terminal(self):\n",
    "        return self.current_state in self.goal_states\n",
    "\n",
    "    def is_valid_state(self, state):\n",
    "        x, y = state\n",
    "        if(state in self.obstacles):\n",
    "            return False\n",
    "        if (0 <= x < self.grid_height and 0 <= y < self.grid_width):\n",
    "            return True\n",
    "        return False\n",
    "    \n",
    "    def reward(self, state, action):\n",
    "        if(state in [(0,2),(1,2),(2,3)]):\n",
    "            if (state == (0,2) and action == \"RIGHT\") :\n",
    "                return 1\n",
    "            elif state == (1,2) and action == \"RIGHT\":\n",
    "                return -1\n",
    "            elif state == (2,3) and action == \"UP\":\n",
    "                return -1\n",
    "        return 0\n",
    "    \n",
    "    def next_state(self,state,action):\n",
    "        action = action.upper()\n",
    "        x , y = state\n",
    "        # Update state based on action\n",
    "        if action == \"UP\":\n",
    "            new_state = (x - 1, y)\n",
    "        elif action == \"DOWN\":\n",
    "            new_state = (x + 1, y)\n",
    "        elif action == \"RIGHT\":\n",
    "            new_state = (x, y + 1)\n",
    "        elif action == \"LEFT\":\n",
    "            new_state = (x, y - 1)\n",
    "        else:\n",
    "            raise ValueError(\"Invalid action\")\n",
    "        \n",
    "        if self.is_valid_state(new_state):\n",
    "            return new_state\n",
    "        return state\n",
    "\n",
    "\n",
    "    def step(self, action):\n",
    "        action = action.upper()\n",
    "        x, y = self.current_state\n",
    "\n",
    "        # Update state based on action\n",
    "        if action == \"UP\":\n",
    "            new_state = (x - 1, y)\n",
    "        elif action == \"DOWN\":\n",
    "            new_state = (x + 1, y)\n",
    "        elif action == \"RIGHT\":\n",
    "            new_state = (x, y + 1)\n",
    "        elif action == \"LEFT\":\n",
    "            new_state = (x, y - 1)\n",
    "        else:\n",
    "            raise ValueError(\"Invalid action\")\n",
    "\n",
    "        #Info\n",
    "        info = {\"Previous state\":self.current_state, \"Action\":action, \"Next state\": new_state, \"Reward\": 0, \"Done\": False}\n",
    "\n",
    "        # Check for valid state and update\n",
    "        reward = 0\n",
    "        if self.is_valid_state(new_state):\n",
    "            self.current_state = new_state\n",
    "            if self.is_terminal():\n",
    "                reward = 1 if self.current_state == (0, 3) else -1  # Goal 1 reward or failure penalty\n",
    "\n",
    "        done = self.is_terminal()\n",
    "        #Update info\n",
    "        info[\"Reward\"] = reward\n",
    "        info[\"Done\"] = done\n",
    "        \n",
    "\n",
    "        # Return observation, reward, done, and optionally info dictionary\n",
    "        return self.current_state, reward, done, info  # Empty info for now\n",
    "    "
   ]
  },
  {
   "cell_type": "code",
   "execution_count": 4,
   "metadata": {},
   "outputs": [
    {
     "name": "stdout",
     "output_type": "stream",
     "text": [
      "dict_values([(2, 1), 'RIGHT', (2, 2), 0, False])\n",
      "dict_values([(2, 2), 'UP', (1, 2), 0, False])\n",
      "dict_values([(1, 2), 'UP', (0, 2), 0, False])\n",
      "dict_values([(0, 2), 'RIGHT', (0, 3), 1, True])\n"
     ]
    }
   ],
   "source": [
    "# Test Task 1:\n",
    "gw = GridWorld()\n",
    "policy = {(0,0):\"Right\", (0,1):\"Right\", (0,2):\"Right\",(1,0):\"Up\", (1,2):\"Up\", (2,0):\"Up\",(2,1):\"Right\",(2,2):\"Up\", (2,3): \"Left\"}\n",
    "gw.reset()\n",
    "gw.current_state = (2,1) # Change Start state\n",
    "done = gw.is_terminal()\n",
    "while not done:\n",
    "    action = policy[gw.current_state]\n",
    "    new_state, reward, done, info = gw.step(action)\n",
    "    print(info.values())"
   ]
  },
  {
   "cell_type": "markdown",
   "metadata": {},
   "source": [
    "# Task 2: a) calculate the state-value function"
   ]
  },
  {
   "cell_type": "code",
   "execution_count": 20,
   "metadata": {},
   "outputs": [],
   "source": [
    "def state_value_function(gamma=0.9):\n",
    "    # Assume V(0,3) = V(1,3) = V(1,1) = 0 \n",
    "    index = {(0,0):0,(0,1):1,(0,2):2,(1,0):3,(1,2):4,(2,0):5,(2,1):6,(2,2):7,(2,3):8}\n",
    "\n",
    "    flipped_index = {value: key for key, value in index.items()}\n",
    "\n",
    "    A = np.zeros((9,9))\n",
    "    B = np.zeros((9,1))\n",
    "\n",
    "    eq1 = {(2,0):1-0.5*gamma, (2,1): -0.25*gamma, (1,0): -0.25*gamma}\n",
    "    eq2 = {(1,0):1-0.5*gamma, (0,0): -0.25*gamma, (2,0): -0.25*gamma}\n",
    "    eq3 = {(0,0):1-0.5*gamma, (0,1): -0.25*gamma, (1,0): -0.25*gamma}\n",
    "    eq4 = {(0,1):1-0.5*gamma, (0,2): -0.25*gamma, (0,0): -0.25*gamma}\n",
    "    eq5 = {(0,2):1-0.25*gamma, (1,2): -0.25*gamma, (0,1): -0.25*gamma, \"B\": 0.25} # B = 0.25\n",
    "    eq6 = {(2,1):1-0.5*gamma, (2,2): -0.25*gamma, (2,0): -0.25*gamma}\n",
    "    eq7 = {(2,2):1-0.25*gamma, (1,2): -0.25*gamma, (2,3): -0.25*gamma, (2,1): -0.25*gamma}\n",
    "    eq8 = {(2,3):1-0.5*gamma, (2,2): -0.25*gamma, \"B\": -0.25} # B = -0.25\n",
    "    eq9 = {(1,2):1-0.25*gamma, (0,2): -0.25*gamma, (2,2): -0.25*gamma, \"B\": -0.25} # B = -0.25\n",
    "\n",
    "\n",
    "    equations = [eq1, eq2, eq3, eq4, eq5, eq6, eq7, eq8, eq9]\n",
    "\n",
    "    for i, eq in enumerate(equations):\n",
    "        for key,value in eq.items():\n",
    "            if(key == \"B\"):\n",
    "                B[i] = value\n",
    "            else:\n",
    "                A[i][index[key]] = value\n",
    "\n",
    "    V = np.linalg.solve(A, B)\n",
    "    V = V.ravel()\n",
    "    V_dic = {kk: V[i] for i,kk in enumerate(index.keys())}\n",
    "    V_dic[(1,1)] = 0\n",
    "    V_dic[(0,3)] = 0\n",
    "    V_dic[(1,3)] = 0\n",
    "\n",
    "    map = np.zeros((3,4))\n",
    "\n",
    "    for i in range(9):\n",
    "        x,y = flipped_index[i]\n",
    "        map[x][y] = V[i]\n",
    "\n",
    "    return map,V_dic"
   ]
  },
  {
   "cell_type": "code",
   "execution_count": 21,
   "metadata": {},
   "outputs": [
    {
     "name": "stdout",
     "output_type": "stream",
     "text": [
      "[[ 0.04919829  0.12715279  0.26161963  0.        ]\n",
      " [-0.00689031  0.         -0.3371296   0.        ]\n",
      " [-0.06604127 -0.15454389 -0.3117327  -0.58207247]]\n"
     ]
    }
   ],
   "source": [
    "print(state_value_function(0.9)[0])"
   ]
  },
  {
   "cell_type": "code",
   "execution_count": 22,
   "metadata": {},
   "outputs": [
    {
     "name": "stdout",
     "output_type": "stream",
     "text": [
      "{(0, 0): 0.04919828548334439, (0, 1): 0.12715278556446113, (0, 2): 0.2616196347853384, (1, 0): -0.006890309938508186, (1, 2): -0.337129599081629, (2, 0): -0.06604126533303105, (2, 1): -0.15454389420890102, (2, 2): -0.311732698288727, (2, 3): -0.5820724674817519, (1, 1): 0, (0, 3): 0, (1, 3): 0}\n"
     ]
    }
   ],
   "source": [
    "print(state_value_function(0.9)[1])"
   ]
  },
  {
   "cell_type": "markdown",
   "metadata": {},
   "source": [
    "# Action Value Function"
   ]
  },
  {
   "cell_type": "code",
   "execution_count": 26,
   "metadata": {},
   "outputs": [],
   "source": [
    "def action_value_function(env, gamma=0.9):\n",
    "    all_states = tuple((x, y) for x in range(3) for y in range(4))\n",
    "    actions = (\"UP\", \"DOWN\", \"RIGHT\", \"LEFT\")\n",
    "\n",
    "    _, V_dic = state_value_function(gamma)\n",
    "        \n",
    "    Q = {}\n",
    "    for state in all_states:\n",
    "        if state in ( (1,1), (0,3), (1,3) ):\n",
    "            Q[state] = [0.0 , 0.0 , 0.0 ,0.0 ,]\n",
    "            continue\n",
    "        temp = []\n",
    "        for action in actions:\n",
    "            ret = env.reward(state, action) + gamma * V_dic[env.next_state(state, action)]\n",
    "            temp.append(round(ret, 2))\n",
    "        Q[state] = temp  # ORDER: UP, DOWN, RIGHT, LEFT\n",
    "\n",
    "    return Q # {state: [return(action = UP), return(action = DOWN), return(action = RIGHT), return(action = LEFT)]}\n"
   ]
  },
  {
   "cell_type": "code",
   "execution_count": 31,
   "metadata": {},
   "outputs": [
    {
     "name": "stdout",
     "output_type": "stream",
     "text": [
      " State : [ UP  | DOWN | RIGHT | LEFT ]\n"
     ]
    },
    {
     "data": {
      "text/plain": [
       "{(0, 0): [0.04, -0.01, 0.11, 0.04],\n",
       " (0, 1): [0.11, 0.11, 0.24, 0.04],\n",
       " (0, 2): [0.24, -0.3, 1.0, 0.11],\n",
       " (0, 3): [0.0, 0.0, 0.0, 0.24],\n",
       " (1, 0): [0.04, -0.06, -0.01, -0.01],\n",
       " (1, 1): [0.11, -0.14, -0.3, -0.01],\n",
       " (1, 2): [0.24, -0.28, -1.0, -0.3],\n",
       " (1, 3): [0.0, -0.52, 0.0, -0.3],\n",
       " (2, 0): [-0.01, -0.06, -0.14, -0.06],\n",
       " (2, 1): [-0.14, -0.14, -0.28, -0.06],\n",
       " (2, 2): [-0.3, -0.28, -0.52, -0.14],\n",
       " (2, 3): [-1.0, -0.52, -0.52, -0.28]}"
      ]
     },
     "execution_count": 31,
     "metadata": {},
     "output_type": "execute_result"
    }
   ],
   "source": [
    "gw = GridWorld()\n",
    "print(\" State : [ UP  | DOWN | RIGHT | LEFT ]\")\n",
    "action_value_function(gw , 0.9 )"
   ]
  }
 ],
 "metadata": {
  "kernelspec": {
   "display_name": "Python 3",
   "language": "python",
   "name": "python3"
  },
  "language_info": {
   "codemirror_mode": {
    "name": "ipython",
    "version": 3
   },
   "file_extension": ".py",
   "mimetype": "text/x-python",
   "name": "python",
   "nbconvert_exporter": "python",
   "pygments_lexer": "ipython3",
   "version": "3.12.2"
  }
 },
 "nbformat": 4,
 "nbformat_minor": 2
}
