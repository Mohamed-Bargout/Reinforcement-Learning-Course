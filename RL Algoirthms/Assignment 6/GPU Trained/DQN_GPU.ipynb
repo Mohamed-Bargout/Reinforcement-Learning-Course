{
 "cells": [
  {
   "cell_type": "code",
   "execution_count": 2,
   "metadata": {},
   "outputs": [
    {
     "name": "stderr",
     "output_type": "stream",
     "text": [
      "<frozen importlib._bootstrap>:488: RuntimeWarning: Your system is avx2 capable but pygame was not built with support for it. The performance of some of your blits could be adversely affected. Consider enabling compile time detection with environment variables like PYGAME_DETECT_AVX2=1 if you are compiling without cross compilation.\n"
     ]
    }
   ],
   "source": [
    "import gymnasium as gym\n",
    "import pygame\n",
    "import os\n",
    "import numpy as np\n",
    "from stable_baselines3 import DQN, DDPG\n",
    "from stable_baselines3.common.callbacks import CheckpointCallback, EvalCallback, CallbackList\n",
    "from stable_baselines3.common.monitor import Monitor\n",
    "from stable_baselines3.common.noise import NormalActionNoise\n",
    "import tensorboard"
   ]
  },
  {
   "cell_type": "markdown",
   "metadata": {},
   "source": [
    "# Discrete"
   ]
  },
  {
   "cell_type": "code",
   "execution_count": null,
   "metadata": {},
   "outputs": [],
   "source": [
    "learning_rate = 0.001\n",
    "batch_size = 64\n",
    "discount_factor = 0.99\n",
    "total_timesteps = 250000"
   ]
  },
  {
   "cell_type": "code",
   "execution_count": null,
   "metadata": {},
   "outputs": [],
   "source": [
    "models_dir = \"models/DQN\"\n",
    "logs_dir = \"logs\"\n",
    "\n",
    "if not os.path.exists(models_dir):\n",
    "    os.makedirs(models_dir)\n",
    "    \n",
    "if not os.path.exists(logs_dir):\n",
    "    os.makedirs(logs_dir)"
   ]
  },
  {
   "cell_type": "code",
   "execution_count": null,
   "metadata": {},
   "outputs": [],
   "source": [
    "eval_env = gym.make(\"LunarLander-v2\")\n",
    "\n",
    "checkpoint_callback = CheckpointCallback(save_freq=10000,\n",
    "                                         save_path=models_dir,\n",
    "                                         name_prefix='DQN_model',\n",
    "                                         )\n",
    "\n",
    "eval_callback = EvalCallback(eval_env,\n",
    "                            best_model_save_path=models_dir,\n",
    "                            log_path = logs_dir,\n",
    "                            eval_freq=100,\n",
    "                            )\n",
    "\n",
    "callback = CallbackList([checkpoint_callback, eval_callback])"
   ]
  },
  {
   "cell_type": "code",
   "execution_count": null,
   "metadata": {},
   "outputs": [],
   "source": [
    "env  = gym.make(\"LunarLander-v2\")\n",
    "env.reset()"
   ]
  },
  {
   "cell_type": "code",
   "execution_count": null,
   "metadata": {},
   "outputs": [],
   "source": [
    "model_DQN = DQN('MlpPolicy', env, \n",
    "                learning_rate=learning_rate, \n",
    "                batch_size=batch_size, \n",
    "                gamma=discount_factor, \n",
    "                learning_starts=50000, \n",
    "                verbose=1,\n",
    "                device='cuda',\n",
    "                tensorboard_log=logs_dir)"
   ]
  },
  {
   "cell_type": "code",
   "execution_count": null,
   "metadata": {},
   "outputs": [],
   "source": [
    "model_DQN.learn(total_timesteps=total_timesteps, callback=callback ,tb_log_name = \"DQN\")"
   ]
  },
  {
   "cell_type": "code",
   "execution_count": null,
   "metadata": {},
   "outputs": [],
   "source": [
    "env.close()"
   ]
  },
  {
   "cell_type": "code",
   "execution_count": null,
   "metadata": {},
   "outputs": [],
   "source": [
    "episodes = 1\n",
    "env = gym.make('LunarLander-v2', render_mode = 'human')\n",
    "\n",
    "num_actions = env.action_space.n\n",
    "\n",
    "# Define the path to the model\n",
    "model_DQN_path = os.path.join(\"models\", \"DQN\", \"best_model\")\n",
    "\n",
    "# Load the model \n",
    "try:\n",
    "    model_DQN = DQN.load(model_DQN_path)\n",
    "    print(\"Model loaded successfully.\")\n",
    "except FileNotFoundError:\n",
    "    print(f\"Model file not found at path: {model_DQN_path}. Please check the path.\")\n",
    "\n",
    "for episode in range(0, episodes):\n",
    "    state, info = env.reset()\n",
    "    # state = state[0]\n",
    "    terminated = False\n",
    "    score = 0\n",
    "\n",
    "    while not terminated :\n",
    "        action, _states = model_DQN.predict(state, deterministic=True)\n",
    "        state, reward, terminated , truncated, info  = env.step(action)\n",
    "        score += reward\n",
    "    \n",
    "    print(score)\n",
    "\n",
    "\n",
    "# Close the Pygame window\n",
    "pygame.quit()"
   ]
  }
 ],
 "metadata": {
  "kernelspec": {
   "display_name": "Quiz3",
   "language": "python",
   "name": "python3"
  },
  "language_info": {
   "codemirror_mode": {
    "name": "ipython",
    "version": 3
   },
   "file_extension": ".py",
   "mimetype": "text/x-python",
   "name": "python",
   "nbconvert_exporter": "python",
   "pygments_lexer": "ipython3",
   "version": "3.12.3"
  }
 },
 "nbformat": 4,
 "nbformat_minor": 2
}
