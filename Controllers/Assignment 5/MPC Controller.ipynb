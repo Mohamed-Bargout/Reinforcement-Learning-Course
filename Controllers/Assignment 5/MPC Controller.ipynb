{
 "cells": [
  {
   "cell_type": "code",
   "execution_count": 1,
   "metadata": {},
   "outputs": [],
   "source": [
    "import casadi\n",
    "from casadi import *\n",
    "import numpy as np\n",
    "import matplotlib.pyplot as plt\n",
    "import scipy.linalg\n",
    "from scipy.signal import cont2discrete as c2d\n",
    "from math import pi"
   ]
  },
  {
   "cell_type": "code",
   "execution_count": 32,
   "metadata": {},
   "outputs": [],
   "source": [
    "N = 5\n",
    "T = 0.1"
   ]
  },
  {
   "cell_type": "code",
   "execution_count": 33,
   "metadata": {},
   "outputs": [],
   "source": [
    "# Given parameters\n",
    "M = 0.5\n",
    "m = 0.2\n",
    "l = 0.3\n",
    "I = 0.006\n",
    "b = 0.1\n",
    "g = 9.81\n",
    "\n",
    "# Continuous-time state-space matrices\n",
    "A = np.array([\n",
    "    [0, 1, 0, 0],\n",
    "    [0, -(I + m * l**2) * b / (I * (M + m) + M * m * l**2), (m**2 * g * l**2) / (I * (M + m) + M * m * l**2), 0],\n",
    "    [0, 0, 0, 1],\n",
    "    [0, -(m * l * b) / (I * (M + m) + M * m * l**2), (m * g * l * (M + m)) / (I * (M + m) + M * m * l**2), 0]\n",
    "])\n",
    "\n",
    "B = np.array([\n",
    "    [0],\n",
    "    [(I + m * l**2) / (I * (M + m) + M * m * l**2)],\n",
    "    [0],\n",
    "    [m * l / (I * (M + m) + M * m * l**2)]\n",
    "])\n",
    "\n",
    "C = np.eye(4)\n",
    "D = np.zeros((4, 1))\n",
    "\n",
    "# Discretization with sampling time T = 0.1s\n",
    "# T = 0.1\n",
    "system = (A, B, C, D)\n",
    "sysd = c2d(system, T)\n",
    "Ad, Bd, _, _, _ = sysd\n",
    "\n",
    "# add row of zeros\n",
    "Ad = np.concatenate((Ad, np.zeros((1,4))))\n",
    "# then a column of zeros\n",
    "Ad = np.concatenate((Ad, np.zeros((5,1))), axis=1)\n",
    "# Extend B from a 4x1 column vector, to a 5x1 column vector\n",
    "# Add an new row at the bottom, with the element = 1:\n",
    "Bd = np.concatenate((Bd, np.ones((1,1))))"
   ]
  },
  {
   "cell_type": "code",
   "execution_count": 34,
   "metadata": {},
   "outputs": [
    {
     "name": "stdout",
     "output_type": "stream",
     "text": [
      "[[1, 0.0990913, 0.0136466, 0.000450875, 0]]\n",
      "[0.00908689, 0.182215, 0.0231849, 0.474325, 1]\n"
     ]
    }
   ],
   "source": [
    "# print(Ad)\n",
    "# print(Bd)\n",
    "\n",
    "A = DM(Ad)\n",
    "B = DM(Bd)\n",
    "\n",
    "# print(A.shape)\n",
    "# print(B.shape)\n",
    "\n",
    "print(A[0,:])\n",
    "print(B[:,0])"
   ]
  },
  {
   "cell_type": "code",
   "execution_count": 35,
   "metadata": {},
   "outputs": [],
   "source": [
    "Q = DM(np.eye(5))\n",
    "R = DM(np.eye(1))\n",
    "\n",
    "Q[0,0] = 100\n",
    "Q[1,1] = 0.005\n",
    "Q[2,2] = 250\n",
    "Q[3,3] = 0.005\n",
    "Q[4,4] = 0\n",
    "\n",
    "\n",
    "R[0,0] = 0"
   ]
  },
  {
   "cell_type": "code",
   "execution_count": 36,
   "metadata": {},
   "outputs": [],
   "source": [
    "opti = Opti()\n",
    "\n",
    "x = opti.variable(5,N)\n",
    "u = opti.variable(1,N-1)\n",
    "\n",
    "x_bar = opti.parameter(5,1)"
   ]
  },
  {
   "cell_type": "code",
   "execution_count": 37,
   "metadata": {},
   "outputs": [],
   "source": [
    "# Objective function (summation of quadratic terms)\n",
    "J = 0\n",
    "for k in range(N-1):\n",
    "    # J += (x[:, k].T @ Q @ x[:, k] + u[:, k].T @ R @ u[:, k])  # Track error and control effort\n",
    "    state = x[:, k].T @ Q @ x[:, k]\n",
    "    state = mtimes( [x[:, k].T , Q , x[:, k]] )\n",
    "    # print(state.shape)\n",
    "    # input = u[:, k].T @ R @ u[:, k]\n",
    "    input = mtimes([ u[:, k].T , R , u[:, k] ])\n",
    "    # print(input.shape)\n",
    "    J += state + input\n",
    "\n",
    "J += x[:, N-1].T @ Q @ x[:, N-1]\n",
    "\n",
    "# print(J)\n",
    "\n",
    "opti.minimize(J)"
   ]
  },
  {
   "cell_type": "code",
   "execution_count": 38,
   "metadata": {},
   "outputs": [],
   "source": [
    "# State update constraint\n",
    "for k in range(N-1):\n",
    "\n",
    "    x_next = A @ x[:, k]+ B @ u[:, k]\n",
    "    opti.subject_to(x[:,k+1] == x_next)  # Enforce state update using system dynamics\n",
    "\n",
    "    # print(x_next.shape)"
   ]
  },
  {
   "cell_type": "code",
   "execution_count": 39,
   "metadata": {},
   "outputs": [],
   "source": [
    "theta_max = opti.parameter()\n",
    "opti.set_value(theta_max, 15*pi/180)\n",
    "\n",
    "input_max = opti.parameter()\n",
    "opti.set_value(input_max, 2)\n",
    "\n",
    "slew_max = opti.parameter()\n",
    "opti.set_value(slew_max, 0.1)\n",
    "\n",
    "# State constraints\n",
    "for k in range(N):\n",
    "    opti.subject_to( x[2,k] <= theta_max)\n",
    "    opti.subject_to( -theta_max <= x[2,k]  )\n",
    "\n",
    "# input constraints:\n",
    "for k in range(N-1):\n",
    "    opti.subject_to( u[0,k] <= input_max)\n",
    "    opti.subject_to(  -input_max <= u[0,k] )\n",
    "\n",
    "# Slew rate constraints\n",
    "for k in range(N-1):\n",
    "    opti.subject_to(  u[0,k] - x[4,k] <= slew_max )\n",
    "    opti.subject_to( -slew_max <= u[0,k] - x[4,k]  )\n",
    "\n",
    "# Initial Value\n",
    "opti.subject_to(x[:,0] == x_bar)"
   ]
  },
  {
   "cell_type": "code",
   "execution_count": 40,
   "metadata": {},
   "outputs": [
    {
     "name": "stdout",
     "output_type": "stream",
     "text": [
      "(5, 1)\n"
     ]
    }
   ],
   "source": [
    "# Set initial state value\n",
    "x0 = DM([-0.4, 14*pi/180, 0, 0, 0]) \n",
    "print(x0.shape)\n",
    "opti.set_value(x_bar, x0 )"
   ]
  },
  {
   "cell_type": "code",
   "execution_count": 41,
   "metadata": {},
   "outputs": [],
   "source": [
    "opts = {'ipopt.print_level': 0, 'print_time': 0, 'ipopt.sb': 'yes'}\n",
    "opti.solver('ipopt', opts)\n",
    "sol = opti.solve()"
   ]
  },
  {
   "cell_type": "code",
   "execution_count": 42,
   "metadata": {},
   "outputs": [
    {
     "name": "stdout",
     "output_type": "stream",
     "text": [
      "[ 0.1         0.19102434  0.09102434 -0.00897563]\n"
     ]
    }
   ],
   "source": [
    "# print(sol.value(x))\n",
    "print(sol.value(u))"
   ]
  },
  {
   "cell_type": "markdown",
   "metadata": {},
   "source": [
    "# Simulate"
   ]
  },
  {
   "cell_type": "code",
   "execution_count": 43,
   "metadata": {},
   "outputs": [
    {
     "name": "stdout",
     "output_type": "stream",
     "text": [
      "[ 0.1         0.19102434  0.09102434 -0.00897563]\n"
     ]
    }
   ],
   "source": [
    "x0 = DM([-0.4, 14*pi/180, 0, 0, 0])\n",
    "opti.set_value(x_bar, x0 )\n",
    "opts = {'ipopt.print_level': 0, 'print_time': 0, 'ipopt.sb': 'yes'}\n",
    "opti.solver('ipopt', opts)\n",
    "sol = opti.solve()\n",
    "print(sol.value(u))"
   ]
  },
  {
   "cell_type": "code",
   "execution_count": 47,
   "metadata": {},
   "outputs": [],
   "source": [
    "steps = 150\n",
    "opts = {'ipopt.print_level': 0, 'print_time': 0, 'ipopt.sb': 'yes'}\n",
    "opti.solver('ipopt', opts)\n",
    "\n",
    "X = np.zeros( (5,steps) )\n",
    "U = np.zeros( (1,steps) )\n",
    "\n",
    "# x0 = [-0.2, 7*pi/180, 0, 0, 0]\n",
    "x0 = [-0.4, 14*pi/180, 0, 0, 0]\n",
    "opti.set_value(x_bar, x0 )\n",
    "\n",
    "for i in range(steps):\n",
    "    sol = opti.solve()\n",
    "    curr_u = sol.value(u)[0]\n",
    "    X[:,i] = np.array(x0).flatten()\n",
    "    U[:,i] = curr_u\n",
    "    x0 = mtimes(A , x0) + mtimes(B, curr_u)\n",
    "    opti.set_value(x_bar, x0 )"
   ]
  },
  {
   "cell_type": "code",
   "execution_count": 48,
   "metadata": {},
   "outputs": [],
   "source": [
    "state1 = X[0,:]\n",
    "state2 = X[1,:]\n",
    "state3 = X[2,:] * (180/pi)\n",
    "state4 = X[3,:] * (180/pi)\n",
    "state5 = U[0,:] - X[4,:] \n",
    "\n",
    "ctl_sig = U[0,:]\n",
    "\n",
    "t = np.linspace(0,steps-1,steps)"
   ]
  },
  {
   "cell_type": "code",
   "execution_count": null,
   "metadata": {},
   "outputs": [
    {
     "data": {
      "image/png": "[encoded data removed]",
      "text/plain": [
       "<Figure size 640x480 with 6 Axes>"
      ]
     },
     "metadata": {},
     "output_type": "display_data"
    }
   ],
   "source": [
    "end = steps\n",
    "\n",
    "plt.subplot(3,2,1)\n",
    "plt.plot(state1[:end])\n",
    "plt.ylabel('x')\n",
    "plt.grid()\n",
    "\n",
    "plt.subplot(3,2,2)\n",
    "plt.ylabel('x_dot')\n",
    "plt.plot(state2[:end])\n",
    "plt.grid()\n",
    "\n",
    "plt.subplot(3,2,3)\n",
    "plt.ylabel('theta')\n",
    "plt.plot(state3[:end])\n",
    "plt.grid()\n",
    "\n",
    "plt.subplot(3,2,4)\n",
    "plt.ylabel('theta_dot')\n",
    "plt.plot(state4[:end])\n",
    "plt.grid()\n",
    "\n",
    "plt.subplot(3,2,5)\n",
    "plt.ylabel('u_dot')\n",
    "plt.step(t[:end],state5[:end])\n",
    "plt.grid()\n",
    "\n",
    "plt.subplot(3,2,6)\n",
    "plt.ylabel('u')\n",
    "plt.step(t[:end],ctl_sig[:end])\n",
    "plt.grid()\n",
    "\n",
    "\n",
    "plt.tight_layout()\n",
    "plt.show()"
   ]
  }
 ],
 "metadata": {
  "kernelspec": {
   "display_name": "Python 3",
   "language": "python",
   "name": "python3"
  },
  "language_info": {
   "codemirror_mode": {
    "name": "ipython",
    "version": 3
   },
   "file_extension": ".py",
   "mimetype": "text/x-python",
   "name": "python",
   "nbconvert_exporter": "python",
   "pygments_lexer": "ipython3",
   "version": "3.12.8"
  }
 },
 "nbformat": 4,
 "nbformat_minor": 2
}
